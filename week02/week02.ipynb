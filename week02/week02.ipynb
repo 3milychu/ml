{
 "cells": [
  {
   "cell_type": "markdown",
   "metadata": {},
   "source": [
    "### week 2"
   ]
  },
  {
   "cell_type": "markdown",
   "metadata": {},
   "source": [
    "Create a module with a class **SimpleRegression** that will fit and store attributes for ordinary least squares Simple Linear Regression"
   ]
  },
  {
   "cell_type": "markdown",
   "metadata": {},
   "source": [
    "<img style=\"float: left;\" src=\"img/reg.png\">"
   ]
  },
  {
   "cell_type": "code",
   "execution_count": 3,
   "metadata": {
    "collapsed": true
   },
   "outputs": [],
   "source": [
    "import numpy as np\n",
    "import matplotlib.pyplot as plt\n",
    "from sklearn import datasets, linear_model\n",
    "%matplotlib inline"
   ]
  },
  {
   "cell_type": "code",
   "execution_count": 5,
   "metadata": {
    "collapsed": false
   },
   "outputs": [],
   "source": [
    "# Load diabetes dataset\n",
    "diabetes = datasets.load_diabetes()"
   ]
  },
  {
   "cell_type": "code",
   "execution_count": 6,
   "metadata": {
    "collapsed": true
   },
   "outputs": [],
   "source": [
    "# Define features and targets\n",
    "diabetes_X = diabetes.data[:, np.newaxis, 2]\n",
    "diabetes_Y = diabetes.target"
   ]
  },
  {
   "cell_type": "code",
   "execution_count": 12,
   "metadata": {
    "collapsed": false
   },
   "outputs": [],
   "source": [
    "d_X = diabetes_X[0:5]\n",
    "d_Y = diabetes_Y[0:5]"
   ]
  },
  {
   "cell_type": "code",
   "execution_count": 27,
   "metadata": {
    "collapsed": true
   },
   "outputs": [],
   "source": [
    "class SimpleRegression():\n",
    "    '''Fits OLS simple regression'''\n",
    "    \n",
    "    def __init__(self):\n",
    "        '''Initialize attributes'''\n",
    "        self.intercept_ = False\n",
    "        self.coef_ = False\n",
    "        \n",
    "    def get_b(X, Y):\n",
    "        '''Calculate the coefficient / slope'''\n",
    "        Xbar = np.average(X)\n",
    "        Ybar = np.average(Y)\n",
    "        X_minus_Xbar = np.subtract(X, [Xbar])\n",
    "        Y_minus_Ybar = np.subtract(Y, [Ybar])\n",
    "        X_minus_Xbar_squared = np.power(X_minus_Xbar, 2)\n",
    "        sum_X_minus_Xbar_times_Y_minus_Ybar = np.vdot(X_minus_Xbar, Y_minus_Ybar)\n",
    "        sum_X_minus_Xbar_squared = np.sum(X_minus_Xbar_squared)\n",
    "        b = sum_X_minus_Xbar_times_Y_minus_Ybar / sum_X_minus_Xbar_squared\n",
    "        return b\n",
    "\n",
    "    def get_a(X, Y):\n",
    "        '''Calculate the intercept'''\n",
    "        Xbar = np.average(X)\n",
    "        Ybar = np.average(Y)\n",
    "        a = Ybar - get_b(X, Y) * Xbar\n",
    "        return a\n",
    "    \n",
    "    def fit(self, X, Y):\n",
    "        '''Fit the OLS model'''\n",
    "        self.intercept_ = get_a(X, Y)\n",
    "        self.coef_ = get_b(X, Y)\n",
    "        \n",
    "    def predict():\n",
    "        '''Predict X'''\n",
    "        '''Return an array of the predicted values for X based on the model you fit'''"
   ]
  },
  {
   "cell_type": "code",
   "execution_count": 28,
   "metadata": {
    "collapsed": true
   },
   "outputs": [],
   "source": [
    "sr = SimpleRegression()"
   ]
  },
  {
   "cell_type": "code",
   "execution_count": 29,
   "metadata": {
    "collapsed": true
   },
   "outputs": [],
   "source": [
    "sr.fit(diabetes_X, diabetes_Y)"
   ]
  },
  {
   "cell_type": "code",
   "execution_count": 30,
   "metadata": {
    "collapsed": false
   },
   "outputs": [
    {
     "name": "stdout",
     "output_type": "stream",
     "text": [
      "949.435260384\n"
     ]
    }
   ],
   "source": [
    "print(sr.coef_)"
   ]
  },
  {
   "cell_type": "code",
   "execution_count": 31,
   "metadata": {
    "collapsed": false
   },
   "outputs": [
    {
     "name": "stdout",
     "output_type": "stream",
     "text": [
      "152.133484163\n"
     ]
    }
   ],
   "source": [
    "print(sr.intercept_)"
   ]
  },
  {
   "cell_type": "code",
   "execution_count": 33,
   "metadata": {
    "collapsed": false
   },
   "outputs": [
    {
     "name": "stdout",
     "output_type": "stream",
     "text": [
      "351.66294632\n",
      "141.12921813\n"
     ]
    }
   ],
   "source": [
    "lsr = SimpleRegression()\n",
    "lsr.fit(d_X, d_Y)\n",
    "print(lsr.coef_)\n",
    "print(lsr.intercept_)"
   ]
  },
  {
   "cell_type": "code",
   "execution_count": null,
   "metadata": {
    "collapsed": true
   },
   "outputs": [],
   "source": []
  }
 ],
 "metadata": {
  "kernelspec": {
   "display_name": "Python 3",
   "language": "python",
   "name": "python3"
  },
  "language_info": {
   "codemirror_mode": {
    "name": "ipython",
    "version": 3
   },
   "file_extension": ".py",
   "mimetype": "text/x-python",
   "name": "python",
   "nbconvert_exporter": "python",
   "pygments_lexer": "ipython3",
   "version": "3.5.1"
  }
 },
 "nbformat": 4,
 "nbformat_minor": 0
}
