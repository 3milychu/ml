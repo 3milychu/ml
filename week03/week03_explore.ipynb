{
 "cells": [
  {
   "cell_type": "markdown",
   "metadata": {
    "collapsed": true
   },
   "source": [
    "## Week 3, explore\n",
    "* Read Amazon.csv\n",
    "* Get to know the data\n"
   ]
  },
  {
   "cell_type": "code",
   "execution_count": 1,
   "metadata": {
    "collapsed": true
   },
   "outputs": [],
   "source": [
    "# imports and specifications\n",
    "import numpy as np\n",
    "import pandas as pd\n",
    "import matplotlib.pyplot as plt\n",
    "%matplotlib inline"
   ]
  },
  {
   "cell_type": "markdown",
   "metadata": {},
   "source": [
    "### read Amazon.csv"
   ]
  },
  {
   "cell_type": "code",
   "execution_count": 2,
   "metadata": {},
   "outputs": [],
   "source": [
    "amazon = pd.read_csv('/Users/Aaron_hill/Dropbox/data/Amazon.csv')"
   ]
  },
  {
   "cell_type": "markdown",
   "metadata": {},
   "source": [
    "### get to know the data"
   ]
  },
  {
   "cell_type": "code",
   "execution_count": 3,
   "metadata": {},
   "outputs": [
    {
     "name": "stdout",
     "output_type": "stream",
     "text": [
      "amazon is: <class 'pandas.core.frame.DataFrame'>\n",
      "amazon has 455000 rows and 13 columns \n",
      "\n",
      "the data types for each of the columns in amazon:\n",
      "Unnamed: 0                  int64\n",
      "Id                          int64\n",
      "ProductId                  object\n",
      "UserId                     object\n",
      "ProfileName                object\n",
      "HelpfulnessNumerator        int64\n",
      "HelpfulnessDenominator      int64\n",
      "Score                       int64\n",
      "Time                        int64\n",
      "Summary                    object\n",
      "Text                       object\n",
      "helpScore                 float64\n",
      "helpful                      bool\n",
      "dtype: object \n",
      "\n",
      "the first 10 rows in amazon:\n",
      "   Unnamed: 0      Id   ProductId          UserId       ProfileName  \\\n",
      "0      138806  138807  B000E63LME  A1CQGW1AOD0LF2  Alena K. \"Alena\"   \n",
      "1      469680  469681  B004ZIH4KM  A37S7U1OX2MCWI        Becky Cole   \n",
      "2      238202  238203  B003ZXE9QA  A2OM6G73E64EQ9              jeff   \n",
      "3      485307  485308  B001RVFERK  A25W349EE97NBK          Tangent4   \n",
      "4      375283  375284  B000OQZNTS  A3CPPW0HUC07YS       Amy Nicolai   \n",
      "5      530491  530492  B001E5DX90  A26XS571YR9XPF          Briana B   \n",
      "6      355114  355115  B000IGAE66   A1WFG6OC3PPGZ          N. Myhre   \n",
      "7      565582  565583  B002GKEK7G  A119CG9WIR9PEG         SWalling1   \n",
      "8      173265  173266  B000XZBXP8  A26F4DH22KS0ZC            DocT65   \n",
      "9      500973  500974  B001EQ5GZI  A206PQUGK87WZ7          N. Wells   \n",
      "\n",
      "   HelpfulnessNumerator  HelpfulnessDenominator  Score        Time  \\\n",
      "0                     1                       2      2  1294185600   \n",
      "1                     0                       0      5  1349740800   \n",
      "2                     0                       0      5  1329264000   \n",
      "3                     1                       1      4  1248307200   \n",
      "4                     0                       0      5  1333238400   \n",
      "5                     0                       0      5  1191628800   \n",
      "6                     0                       0      5  1293321600   \n",
      "7                     0                       0      5  1261094400   \n",
      "8                     1                       1      5  1326672000   \n",
      "9                     0                       0      5  1274054400   \n",
      "\n",
      "                                      Summary  \\\n",
      "0                            Not as pictured.   \n",
      "1                                       seeds   \n",
      "2                               I'm addicted!   \n",
      "3                   I wanted to love these...   \n",
      "4                     Excellent chamomile tea   \n",
      "5                          Better than Coffee   \n",
      "6  Great Ceasers Ghost- These Cakes Are Great   \n",
      "7               Are you kidding me!? SO GOOD!   \n",
      "8                          Fantastic dog food   \n",
      "9                        morning wake up call   \n",
      "\n",
      "                                                Text  helpScore  helpful  \n",
      "0  I was looking forward to try cranberry apple f...        0.5    False  \n",
      "1  TY for everything.  The seeds arrived quickly,...        NaN    False  \n",
      "2  I've finally found the best cereal in the worl...        NaN    False  \n",
      "3  I originally bought these chips because I'd he...        1.0    False  \n",
      "4  Really excellent tea, flowers are visible in t...        NaN    False  \n",
      "5  I never was a big fan of tea but this is not l...        NaN    False  \n",
      "6  WOW WOW WOW WOW,WOW,truly great tasting Banana...        NaN    False  \n",
      "7  The words 'protein drink' don't generally conj...        NaN    False  \n",
      "8  We have 2 dogs, Dachshund and a German Shepher...        1.0    False  \n",
      "9  after trying most brands of coffee, I have set...        NaN    False  \n"
     ]
    }
   ],
   "source": [
    "print(\"amazon is:\", type(amazon))\n",
    "print(\"amazon has\", amazon.shape[0], \"rows and\", amazon.shape[1], \"columns\", \"\\n\")\n",
    "print(\"the data types for each of the columns in amazon:\")\n",
    "print(amazon.dtypes, \"\\n\")\n",
    "print(\"the first 10 rows in amazon:\")\n",
    "print(amazon.head(10))"
   ]
  },
  {
   "cell_type": "markdown",
   "metadata": {},
   "source": [
    "### What is the relationship between the \"Helpful Denominator\" and the number of stars given?"
   ]
  },
  {
   "cell_type": "code",
   "execution_count": 4,
   "metadata": {},
   "outputs": [
    {
     "data": {
      "text/plain": [
       "<matplotlib.collections.PathCollection at 0x127e84438>"
      ]
     },
     "execution_count": 4,
     "metadata": {},
     "output_type": "execute_result"
    },
    {
     "data": {
      "image/png": "[encoded data removed]",
      "text/plain": [
       "<matplotlib.figure.Figure at 0x1283646d8>"
      ]
     },
     "metadata": {},
     "output_type": "display_data"
    }
   ],
   "source": [
    "plt.scatter(amazon[\"HelpfulnessDenominator\"], amazon[\"Score\"])"
   ]
  },
  {
   "cell_type": "markdown",
   "metadata": {},
   "source": [
    "### Let's get to know \"HelpfulnessDenominator\""
   ]
  },
  {
   "cell_type": "code",
   "execution_count": 5,
   "metadata": {},
   "outputs": [
    {
     "data": {
      "text/plain": [
       "455000"
      ]
     },
     "execution_count": 5,
     "metadata": {},
     "output_type": "execute_result"
    }
   ],
   "source": [
    "amazon[\"HelpfulnessDenominator\"].count()"
   ]
  },
  {
   "cell_type": "code",
   "execution_count": 6,
   "metadata": {},
   "outputs": [
    {
     "data": {
      "text/plain": [
       "2.2188945054945055"
      ]
     },
     "execution_count": 6,
     "metadata": {},
     "output_type": "execute_result"
    }
   ],
   "source": [
    "amazon[\"HelpfulnessDenominator\"].mean()"
   ]
  },
  {
   "cell_type": "code",
   "execution_count": 7,
   "metadata": {},
   "outputs": [
    {
     "data": {
      "text/plain": [
       "238678"
      ]
     },
     "execution_count": 7,
     "metadata": {},
     "output_type": "execute_result"
    }
   ],
   "source": [
    "amazon['helpfulness_denom_nonzero'] = amazon['HelpfulnessDenominator'] > 0\n",
    "amazon['helpfulness_denom_nonzero'].sum()"
   ]
  },
  {
   "cell_type": "markdown",
   "metadata": {},
   "source": [
    "### create a subset of Amazon that only includes reviews where someone marked whether it's helpful"
   ]
  },
  {
   "cell_type": "code",
   "execution_count": 8,
   "metadata": {},
   "outputs": [
    {
     "data": {
      "text/plain": [
       "(238678, 14)"
      ]
     },
     "execution_count": 8,
     "metadata": {},
     "output_type": "execute_result"
    }
   ],
   "source": [
    "a2 = amazon.loc[amazon[\"helpfulness_denom_nonzero\"]==True]\n",
    "a2.shape"
   ]
  },
  {
   "cell_type": "markdown",
   "metadata": {},
   "source": [
    "### Create a feature that contains the quantity of the number of words in a review (word count)"
   ]
  },
  {
   "cell_type": "code",
   "execution_count": 9,
   "metadata": {},
   "outputs": [
    {
     "name": "stdout",
     "output_type": "stream",
     "text": [
      "                                                Text  word_count\n",
      "0  I was looking forward to try cranberry apple f...          32\n",
      "1  TY for everything.  The seeds arrived quickly,...          27\n",
      "2  I've finally found the best cereal in the worl...         124\n",
      "3  I originally bought these chips because I'd he...         179\n",
      "4  Really excellent tea, flowers are visible in t...          39\n"
     ]
    }
   ],
   "source": [
    "amazon['word_count'] = amazon['Text'].str.split(' ').str.len()\n",
    "print(amazon[[\"Text\", \"word_count\"]].head())"
   ]
  },
  {
   "cell_type": "markdown",
   "metadata": {},
   "source": [
    "### What is the datatype of `amazon`?"
   ]
  },
  {
   "cell_type": "code",
   "execution_count": 10,
   "metadata": {},
   "outputs": [
    {
     "name": "stdout",
     "output_type": "stream",
     "text": [
      "<class 'pandas.core.frame.DataFrame'>\n",
      "<class 'numpy.ndarray'>\n"
     ]
    }
   ],
   "source": [
    "print(type(amazon))\n",
    "print(type(amazon.values))"
   ]
  },
  {
   "cell_type": "markdown",
   "metadata": {},
   "source": [
    "### What are the datatypes of the features in `amazon`?"
   ]
  },
  {
   "cell_type": "code",
   "execution_count": 11,
   "metadata": {},
   "outputs": [
    {
     "name": "stdout",
     "output_type": "stream",
     "text": [
      "Unnamed: 0                     int64\n",
      "Id                             int64\n",
      "ProductId                     object\n",
      "UserId                        object\n",
      "ProfileName                   object\n",
      "HelpfulnessNumerator           int64\n",
      "HelpfulnessDenominator         int64\n",
      "Score                          int64\n",
      "Time                           int64\n",
      "Summary                       object\n",
      "Text                          object\n",
      "helpScore                    float64\n",
      "helpful                         bool\n",
      "helpfulness_denom_nonzero       bool\n",
      "word_count                     int64\n",
      "dtype: object\n"
     ]
    }
   ],
   "source": [
    "# http://www.datacarpentry.org/python-ecology-lesson/03-data-types-and-format/\n",
    "print(amazon.dtypes)"
   ]
  },
  {
   "cell_type": "code",
   "execution_count": null,
   "metadata": {
    "collapsed": true
   },
   "outputs": [],
   "source": []
  }
 ],
 "metadata": {
  "kernelspec": {
   "display_name": "Python 3",
   "language": "python",
   "name": "python3"
  },
  "language_info": {
   "codemirror_mode": {
    "name": "ipython",
    "version": 3
   },
   "file_extension": ".py",
   "mimetype": "text/x-python",
   "name": "python",
   "nbconvert_exporter": "python",
   "pygments_lexer": "ipython3",
   "version": "3.6.3"
  }
 },
 "nbformat": 4,
 "nbformat_minor": 1
}
