{
 "cells": [
  {
   "cell_type": "markdown",
   "metadata": {},
   "source": [
    "### ROC plot to compare performance of various models and fits"
   ]
  },
  {
   "cell_type": "code",
   "execution_count": null,
   "metadata": {
    "collapsed": true
   },
   "outputs": [],
   "source": [
    "import matplotlib.pyplot as plt\n",
    "fig=plt.figure(figsize=(18, 16), dpi= 80, facecolor='w', edgecolor='k')\n",
    "\n",
    "num_ml = 3\n",
    "num_other = 5\n",
    "\n",
    "# (Number of True for ML, Number of True for Other, \"Name\")\n",
    "fits = [(2, 0, \"A\", 'ro'), (3, 0, \"B\", 'bo'), (0, 1, \"C\", 'ro')]\n",
    "\n",
    "for fit in fits:\n",
    "    plt.plot(fit[1] / num_other, fit[0] / num_ml, fit[3], markersize=25)\n",
    "    plt.text(fit[1] / num_other, fit[0] / num_ml, fit[2], fontsize=18)\n",
    "plt.axis([0, 1, 0, 1])\n",
    "plt.title('ROC plot: test set')\n",
    "plt.xlabel('False positive rate')\n",
    "plt.ylabel('True positive rate')\n",
    "plt.show()"
   ]
  }
 ],
 "metadata": {
  "kernelspec": {
   "display_name": "Python 3",
   "language": "python",
   "name": "python3"
  },
  "language_info": {
   "codemirror_mode": {
    "name": "ipython",
    "version": 3
   },
   "file_extension": ".py",
   "mimetype": "text/x-python",
   "name": "python",
   "nbconvert_exporter": "python",
   "pygments_lexer": "ipython3",
   "version": "3.5.3"
  }
 },
 "nbformat": 4,
 "nbformat_minor": 2
}
